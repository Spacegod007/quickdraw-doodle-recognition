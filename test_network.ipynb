{
 "cells": [
  {
   "cell_type": "code",
   "execution_count": 1,
   "metadata": {},
   "outputs": [],
   "source": [
    "# options\n",
    "\n",
    "model_path = r\"models/38_model.h5\"\n",
    "data_path = r\"data/data_10.csv\"\n",
    "show_top_x_results = 10"
   ]
  },
  {
   "cell_type": "code",
   "execution_count": 2,
   "metadata": {},
   "outputs": [
    {
     "name": "stderr",
     "output_type": "stream",
     "text": [
      "Using TensorFlow backend.\n"
     ]
    }
   ],
   "source": [
    "# imports\n",
    "\n",
    "import random\n",
    "\n",
    "import numpy as np\n",
    "import pandas as pd\n",
    "\n",
    "from matplotlib import pyplot as plt\n",
    "from keras.models import load_model\n",
    "from sklearn.preprocessing import LabelEncoder"
   ]
  },
  {
   "cell_type": "code",
   "execution_count": 3,
   "metadata": {},
   "outputs": [],
   "source": [
    "# constant values\n",
    "\n",
    "WORD_COLUMN = \"word\""
   ]
  },
  {
   "cell_type": "code",
   "execution_count": 4,
   "metadata": {},
   "outputs": [],
   "source": [
    "# helper methods\n",
    "def one_hot_encoding_label(labels):\n",
    "    code = np.array(labels)\n",
    "    encoder = LabelEncoder()\n",
    "    return encoder.fit_transform(code)"
   ]
  },
  {
   "cell_type": "code",
   "execution_count": 5,
   "metadata": {},
   "outputs": [],
   "source": [
    "# read data\n",
    "df = pd.read_csv(data_path)\n",
    "words = df[WORD_COLUMN].unique()\n",
    "labels = df[WORD_COLUMN].to_numpy()\n",
    "data = df.drop(columns=[WORD_COLUMN]).to_numpy()\n",
    "del df"
   ]
  },
  {
   "cell_type": "code",
   "execution_count": 6,
   "metadata": {},
   "outputs": [],
   "source": [
    "# load model\n",
    "model = load_model(model_path)"
   ]
  },
  {
   "cell_type": "code",
   "execution_count": 23,
   "metadata": {},
   "outputs": [],
   "source": [
    "# get random sample from the data\n",
    "num = random.randint(0, len(data))\n",
    "sub = data[num:num+1]\n",
    "actual_result = labels[num:num+1][0]"
   ]
  },
  {
   "cell_type": "code",
   "execution_count": 24,
   "metadata": {},
   "outputs": [],
   "source": [
    "# predict\n",
    "predictions = model.predict(sub)"
   ]
  },
  {
   "cell_type": "code",
   "execution_count": 25,
   "metadata": {
    "scrolled": false
   },
   "outputs": [],
   "source": [
    "# process results\n",
    "for i in range(len(predictions)):\n",
    "    results = dict(zip(predictions[i], words))\n",
    "\n",
    "top_results = []\n",
    "for i in range(show_top_x_results):\n",
    "    top = max(results)\n",
    "    top_results.append((results.pop(top), top))"
   ]
  },
  {
   "cell_type": "code",
   "execution_count": 26,
   "metadata": {},
   "outputs": [
    {
     "name": "stdout",
     "output_type": "stream",
     "text": [
      "1. wine glass - 98.45% probability\n",
      "2. asparagus - 1.05% probability\n",
      "3. hurricane - 0.43% probability\n",
      "4. foot - 0.03% probability\n",
      "5. shark - 0.03% probability\n",
      "6. skull - 0.0% probability\n",
      "7. couch - 0.0% probability\n",
      "8. school bus - 0.0% probability\n",
      "9. lipstick - 0.0% probability\n",
      "10. vase - 0.0% probability\n",
      "actual results: wine glass\n"
     ]
    },
    {
     "data": {
      "text/plain": [
       "<matplotlib.image.AxesImage at 0x25e394c6488>"
      ]
     },
     "execution_count": 26,
     "metadata": {},
     "output_type": "execute_result"
    },
    {
     "data": {
      "image/png": "[encoded data removed]",
      "text/plain": [
       "<Figure size 432x288 with 1 Axes>"
      ]
     },
     "metadata": {
      "needs_background": "light"
     },
     "output_type": "display_data"
    }
   ],
   "source": [
    "# print results\n",
    "for index, (item, probability) in enumerate(top_results):\n",
    "    print(f\"{index+1}. {item} - {round(probability * 100, 2)}% probability\")\n",
    "print(f\"actual results: {actual_result}\")\n",
    "plt.axis('off')\n",
    "plt.imshow(sub[0].reshape(32,32,), cmap='gray', origin='lower')"
   ]
  },
  {
   "cell_type": "code",
   "execution_count": null,
   "metadata": {},
   "outputs": [],
   "source": []
  }
 ],
 "metadata": {
  "kernelspec": {
   "display_name": "Python 3",
   "language": "python",
   "name": "python3"
  },
  "language_info": {
   "codemirror_mode": {
    "name": "ipython",
    "version": 3
   },
   "file_extension": ".py",
   "mimetype": "text/x-python",
   "name": "python",
   "nbconvert_exporter": "python",
   "pygments_lexer": "ipython3",
   "version": "3.7.4"
  },
  "pycharm": {
   "stem_cell": {
    "cell_type": "raw",
    "metadata": {
     "collapsed": false
    },
    "source": []
   }
  }
 },
 "nbformat": 4,
 "nbformat_minor": 1
}
